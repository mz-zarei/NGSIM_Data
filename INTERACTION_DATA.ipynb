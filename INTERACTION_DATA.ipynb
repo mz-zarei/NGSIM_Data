{
  "nbformat": 4,
  "nbformat_minor": 0,
  "metadata": {
    "colab": {
      "name": "INTERACTION_DATA.ipynb",
      "provenance": [],
      "machine_shape": "hm",
      "mount_file_id": "https://github.com/mz-zarei/Trajectory_Analysis/blob/main/INTERACTION_DATA.ipynb",
      "authorship_tag": "ABX9TyNgRUilgYda0IgEJueum2yh",
      "include_colab_link": true
    },
    "kernelspec": {
      "name": "python3",
      "display_name": "Python 3"
    },
    "language_info": {
      "name": "python"
    }
  },
  "cells": [
    {
      "cell_type": "markdown",
      "metadata": {
        "id": "view-in-github",
        "colab_type": "text"
      },
      "source": [
        "<a href=\"https://colab.research.google.com/github/mz-zarei/Trajectory_Analysis/blob/main/INTERACTION_DATA.ipynb\" target=\"_parent\"><img src=\"https://colab.research.google.com/assets/colab-badge.svg\" alt=\"Open In Colab\"/></a>"
      ]
    },
    {
      "cell_type": "code",
      "execution_count": 1,
      "metadata": {
        "id": "Hcu3fp4vPdJM"
      },
      "outputs": [],
      "source": [
        "import pandas as pd\n",
        "import numpy as np\n",
        "import os\n",
        "from tqdm import tqdm"
      ]
    },
    {
      "cell_type": "code",
      "source": [
        "folder = '/content/drive/MyDrive/Trajectory_Analysis/Interaction/'\n",
        "data_paths_train = [folder + i for i in os.listdir(folder)]\n",
        "\n",
        "num_cases = 0\n",
        "max_num_agents = 0\n",
        "for path in data_paths_train:\n",
        "    print(path)\n",
        "    data = pd.read_csv(path)\n",
        "    #droping unused columns\n",
        "    # data.drop(['vx','vy','psi_rad','length','width'], axis=1, inplace=True)\n",
        "    # data.to_csv(path, index=False)\n",
        "    print(\"\\t Number of cases: \", data.case_id.max())\n",
        "    print(\"\\t Max number of agents in case: \", data.track_id.max())\n",
        "\n",
        "    num_cases += data.case_id.max()\n",
        "    \n",
        "    if max_num_agents < data.track_id.max():\n",
        "        max_num_agents = data.track_id.max()\n",
        "\n",
        "print(\"-\" * 60)\n",
        "print(\"Total number of cases: \", num_cases)\n",
        "print(\"Max number of agents in all cases: \", max_num_agents)"
      ],
      "metadata": {
        "colab": {
          "base_uri": "https://localhost:8080/"
        },
        "id": "cKVrDCGaP-ga",
        "outputId": "b487a4d4-2fc9-4e8e-9476-df2c63b34eba"
      },
      "execution_count": 3,
      "outputs": [
        {
          "output_type": "stream",
          "name": "stdout",
          "text": [
            "/content/drive/MyDrive/Trajectory_Analysis/Interaction/DR_USA_Roundabout_EP_val.csv\n",
            "\t Number of cases:  433.0\n",
            "\t Max number of agents in case:  23\n",
            "/content/drive/MyDrive/Trajectory_Analysis/Interaction/DR_DEU_Roundabout_OF_val.csv\n",
            "\t Number of cases:  568.0\n",
            "\t Max number of agents in case:  10\n",
            "/content/drive/MyDrive/Trajectory_Analysis/Interaction/DR_CHN_Roundabout_LN_val.csv\n",
            "\t Number of cases:  238.0\n",
            "\t Max number of agents in case:  7\n",
            "/content/drive/MyDrive/Trajectory_Analysis/Interaction/DR_USA_Roundabout_SR_val.csv\n",
            "\t Number of cases:  552.0\n",
            "\t Max number of agents in case:  29\n",
            "/content/drive/MyDrive/Trajectory_Analysis/Interaction/DR_USA_Roundabout_FT_val.csv\n",
            "\t Number of cases:  2452.0\n",
            "\t Max number of agents in case:  23\n",
            "/content/drive/MyDrive/Trajectory_Analysis/Interaction/DR_USA_Roundabout_FT_train.csv\n",
            "\t Number of cases:  9811.0\n",
            "\t Max number of agents in case:  25\n",
            "/content/drive/MyDrive/Trajectory_Analysis/Interaction/DR_CHN_Roundabout_LN_train.csv\n",
            "\t Number of cases:  1078.0\n",
            "\t Max number of agents in case:  15\n",
            "/content/drive/MyDrive/Trajectory_Analysis/Interaction/DR_DEU_Roundabout_OF_train.csv\n",
            "\t Number of cases:  2429.0\n",
            "\t Max number of agents in case:  15\n",
            "/content/drive/MyDrive/Trajectory_Analysis/Interaction/DR_USA_Roundabout_EP_train.csv\n",
            "\t Number of cases:  1775.0\n",
            "\t Max number of agents in case:  22\n",
            "/content/drive/MyDrive/Trajectory_Analysis/Interaction/DR_USA_Roundabout_SR_train.csv\n",
            "\t Number of cases:  1864.0\n",
            "\t Max number of agents in case:  36\n",
            "------------------------------------------------------------\n",
            "Total number of cases:  21200.0\n",
            "Max number of agents in all cases:  36\n"
          ]
        }
      ]
    },
    {
      "cell_type": "code",
      "source": [
        "def find_max_coordinates(data_paths, rot_deg_increment=360):\n",
        "    raw_data_buffer = []\n",
        "    for path in data_paths:\n",
        "        # print(path)\n",
        "        # Load data from csv file.\n",
        "        data = pd.read_csv(path)\n",
        "        data = data[['x','y']].to_numpy()\n",
        "        raw_data_buffer.append(data)            \n",
        "        # Rotate data by deg_increment deg sequentially for data augmentation (only rotation is considered here)\n",
        "        deg_increment_int = int(rot_deg_increment)\n",
        "        for deg in range(deg_increment_int, 360, deg_increment_int):\n",
        "            data_rotated = np.zeros_like(data)\n",
        "            rad = np.radians(deg)\n",
        "            c, s = np.cos(rad), np.sin(rad)\n",
        "            Rot = np.array(((c,-s), (s, c)))\n",
        "            data_rotated = np.dot(Rot, data.T).T\n",
        "            raw_data_buffer.append(data_rotated)\n",
        "    # Find x_max, x_min, y_max, y_min across all the data in data_paths.\n",
        "    x_max_global, x_min_global, y_max_global, y_min_global = -1000, 1000, -1000, 1000\n",
        "    for data in raw_data_buffer:\n",
        "        x = data[:,0]\n",
        "        x_min, x_max = min(x), max(x)\n",
        "        if x_min < x_min_global:\n",
        "            x_min_global = x_min\n",
        "        if x_max > x_max_global:\n",
        "            x_max_global = x_max\n",
        "        y = data[:,1]\n",
        "        y_min, y_max = min(y), max(y)\n",
        "        if y_min < y_min_global:\n",
        "            y_min_global = y_min\n",
        "        if y_max > y_max_global:\n",
        "            y_max_global = y_max\n",
        "    return x_max_global, x_min_global, y_max_global, y_min_global\n",
        "\n",
        "def normalize(x_values, y_values , x_max_global, x_min_global, y_max_global, y_min_global):\n",
        "    # Normalize x and y values to range from -1 to 1.\n",
        "    normalized_x_values = np.zeros(len(x_values))\n",
        "    normalized_y_values = np.zeros(len(y_values))\n",
        "    x_normalized = (1 + 1)*(x_values - x_min_global)/(x_max_global - x_min_global)\n",
        "    x_normalized = x_normalized - 1.0\n",
        "    for jj in range(len(x_normalized)):\n",
        "        if abs(x_normalized[jj]) < 0.0001:\n",
        "            normalized_x_values[jj] = 0.0\n",
        "        else:\n",
        "            normalized_x_values[jj] = x_normalized[jj] \n",
        "    y_normalized = (1 + 1)*(y_values - y_min_global)/(y_max_global - y_min_global)\n",
        "    y_normalized = y_normalized - 1.0\n",
        "    for jj in range(len(y_normalized)):\n",
        "        if abs(y_normalized[jj]) < 0.0001:\n",
        "            normalized_y_values[jj] = 0.0\n",
        "        else:\n",
        "            normalized_y_values[jj] = y_normalized[jj]\n",
        "    return normalized_x_values, normalized_y_values\n",
        "\n",
        "def preprocess(data_paths, rot_deg_increment=360):\n",
        "    # Find x_max, x_min, y_max, y_min across all the data in data_paths\n",
        "    x_max_global, x_min_global, y_max_global, y_min_global = find_max_coordinates(data_paths, rot_deg_increment)\n",
        "    print(\"x_max, x_min, y_max, y_min across all the data in data_paths: \",\n",
        "          x_max_global, x_min_global, y_max_global, y_min_global)\n",
        "    preprocessed_data_all = []\n",
        "\n",
        "    deg_increment_int = int(rot_deg_increment)\n",
        "    for path in data_paths:\n",
        "        print(\"Preprocessing train data set: \", path)\n",
        "        data = pd.read_csv(path)\n",
        "        data = data[data.frame_id % 2 == 0].copy() # skip one frame\n",
        "        all_cases = data.case_id.astype(int).unique()\n",
        "        for deg in range(0, 360, deg_increment_int):\n",
        "            print(\"Rotation degree: \", deg)\n",
        "            # Rotate x and y values for the agent\n",
        "            rad = np.radians(deg)\n",
        "            c, s = np.cos(rad), np.sin(rad)\n",
        "            Rot = np.array(((c,-s), (s, c)))\n",
        "            for case in tqdm(all_cases):\n",
        "                agent_ids = data[data.case_id == case].track_id.astype(int).unique()\n",
        "                preprocessed_data = np.zeros((3,max_num_agents,40))                              \n",
        "\n",
        "                for agent in agent_ids:\n",
        "                    x = data[(data.case_id == case) & (data.track_id==agent)].x.values\n",
        "                    y = data[(data.case_id == case) & (data.track_id==agent)].y.values\n",
        "                    agent_type = np.array([1 if i == 'car' else 0 for i in data[(data.case_id == case) & (data.track_id == agent)].agent_type.values])\n",
        "                    length = len(x)\n",
        "\n",
        "                    # Rotate x and y values for the agent\n",
        "                    xy_rotated = np.dot(Rot, np.array([x,y]))\n",
        "\n",
        "                    # Normalize rotated xy\n",
        "                    x_normal_rotated, y_normal_rotated = normalize(xy_rotated[0], xy_rotated[1] , x_max_global, x_min_global, y_max_global, y_min_global)\n",
        "                    \n",
        "                    # Add rotated-normalized x, y and agent type to trajectory matrix\n",
        "                    preprocessed_data[0,agent-1, :length] = x_normal_rotated\n",
        "                    preprocessed_data[1,agent-1, :length] = y_normal_rotated\n",
        "                    preprocessed_data[2,agent-1, :length] = agent_type\n",
        "\n",
        "                preprocessed_data_all.append(preprocessed_data)\n",
        "    return np.stack(preprocessed_data_all, axis =0)"
      ],
      "metadata": {
        "id": "W9ukGxRuZG6L"
      },
      "execution_count": 4,
      "outputs": []
    },
    {
      "cell_type": "code",
      "source": [
        "folder = '/content/drive/MyDrive/Trajectory_Analysis/Interaction/'\n",
        "data_paths = [folder + i for i in os.listdir(folder)]\n",
        "rot_deg_increment = 360\n",
        "preprocessed_data_all = preprocess(data_paths, rot_deg_increment=rot_deg_increment)\n",
        "np.save(folder + 'preprocessed_data_rot_' + str(360), preprocessed_data_all)"
      ],
      "metadata": {
        "colab": {
          "base_uri": "https://localhost:8080/"
        },
        "id": "PwYr2FYsdD1x",
        "outputId": "cac80860-034f-4014-93da-e3bcb5c16e8f"
      },
      "execution_count": 5,
      "outputs": [
        {
          "metadata": {
            "tags": null
          },
          "name": "stdout",
          "output_type": "stream",
          "text": [
            "x_max, x_min, y_max, y_min across all the data in data_paths:  1099.1680000000001 916.043 1062.85 953.841\n",
            "Preprocessing train data set:  /content/drive/MyDrive/Trajectory_Analysis/Interaction/DR_USA_Roundabout_EP_val.csv\n",
            "Rotation degree:  0\n"
          ]
        },
        {
          "metadata": {
            "tags": null
          },
          "name": "stderr",
          "output_type": "stream",
          "text": [
            "100%|██████████| 433/433 [00:25<00:00, 17.17it/s]\n"
          ]
        },
        {
          "metadata": {
            "tags": null
          },
          "name": "stdout",
          "output_type": "stream",
          "text": [
            "Preprocessing train data set:  /content/drive/MyDrive/Trajectory_Analysis/Interaction/DR_DEU_Roundabout_OF_val.csv\n",
            "Rotation degree:  0\n"
          ]
        },
        {
          "metadata": {
            "tags": null
          },
          "name": "stderr",
          "output_type": "stream",
          "text": [
            "100%|██████████| 568/568 [00:11<00:00, 48.05it/s]\n"
          ]
        },
        {
          "metadata": {
            "tags": null
          },
          "name": "stdout",
          "output_type": "stream",
          "text": [
            "Preprocessing train data set:  /content/drive/MyDrive/Trajectory_Analysis/Interaction/DR_CHN_Roundabout_LN_val.csv\n",
            "Rotation degree:  0\n"
          ]
        },
        {
          "metadata": {
            "tags": null
          },
          "name": "stderr",
          "output_type": "stream",
          "text": [
            "100%|██████████| 238/238 [00:03<00:00, 78.03it/s]\n"
          ]
        },
        {
          "metadata": {
            "tags": null
          },
          "name": "stdout",
          "output_type": "stream",
          "text": [
            "Preprocessing train data set:  /content/drive/MyDrive/Trajectory_Analysis/Interaction/DR_USA_Roundabout_SR_val.csv\n",
            "Rotation degree:  0\n"
          ]
        },
        {
          "metadata": {
            "tags": null
          },
          "name": "stderr",
          "output_type": "stream",
          "text": [
            "100%|██████████| 552/552 [00:50<00:00, 10.97it/s]\n"
          ]
        },
        {
          "metadata": {
            "tags": null
          },
          "name": "stdout",
          "output_type": "stream",
          "text": [
            "Preprocessing train data set:  /content/drive/MyDrive/Trajectory_Analysis/Interaction/DR_USA_Roundabout_FT_val.csv\n",
            "Rotation degree:  0\n"
          ]
        },
        {
          "metadata": {
            "tags": null
          },
          "name": "stderr",
          "output_type": "stream",
          "text": [
            "100%|██████████| 2452/2452 [04:42<00:00,  8.67it/s]\n"
          ]
        },
        {
          "metadata": {
            "tags": null
          },
          "name": "stdout",
          "output_type": "stream",
          "text": [
            "Preprocessing train data set:  /content/drive/MyDrive/Trajectory_Analysis/Interaction/DR_USA_Roundabout_FT_train.csv\n",
            "Rotation degree:  0\n"
          ]
        },
        {
          "metadata": {
            "tags": null
          },
          "name": "stderr",
          "output_type": "stream",
          "text": [
            "100%|██████████| 9811/9811 [39:30<00:00,  4.14it/s]\n"
          ]
        },
        {
          "metadata": {
            "tags": null
          },
          "name": "stdout",
          "output_type": "stream",
          "text": [
            "Preprocessing train data set:  /content/drive/MyDrive/Trajectory_Analysis/Interaction/DR_CHN_Roundabout_LN_train.csv\n",
            "Rotation degree:  0\n"
          ]
        },
        {
          "metadata": {
            "tags": null
          },
          "name": "stderr",
          "output_type": "stream",
          "text": [
            "100%|██████████| 1078/1078 [00:21<00:00, 50.42it/s]\n"
          ]
        },
        {
          "metadata": {
            "tags": null
          },
          "name": "stdout",
          "output_type": "stream",
          "text": [
            "Preprocessing train data set:  /content/drive/MyDrive/Trajectory_Analysis/Interaction/DR_DEU_Roundabout_OF_train.csv\n",
            "Rotation degree:  0\n"
          ]
        },
        {
          "metadata": {
            "tags": null
          },
          "name": "stderr",
          "output_type": "stream",
          "text": [
            "100%|██████████| 2429/2429 [01:15<00:00, 32.13it/s]\n"
          ]
        },
        {
          "metadata": {
            "tags": null
          },
          "name": "stdout",
          "output_type": "stream",
          "text": [
            "Preprocessing train data set:  /content/drive/MyDrive/Trajectory_Analysis/Interaction/DR_USA_Roundabout_EP_train.csv\n",
            "Rotation degree:  0\n"
          ]
        },
        {
          "output_type": "stream",
          "name": "stderr",
          "text": [
            "100%|██████████| 1775/1775 [02:25<00:00, 12.16it/s]\n"
          ]
        },
        {
          "output_type": "stream",
          "name": "stdout",
          "text": [
            "Preprocessing train data set:  /content/drive/MyDrive/Trajectory_Analysis/Interaction/DR_USA_Roundabout_SR_train.csv\n",
            "Rotation degree:  0\n"
          ]
        },
        {
          "output_type": "stream",
          "name": "stderr",
          "text": [
            "100%|██████████| 1864/1864 [04:31<00:00,  6.86it/s]\n"
          ]
        }
      ]
    },
    {
      "cell_type": "code",
      "source": [
        "loaded_array = np.load(folder + 'preprocessed_data_rot_' + str(360) + '.npy')\n",
        "print(loaded_array.shape)"
      ],
      "metadata": {
        "colab": {
          "base_uri": "https://localhost:8080/"
        },
        "id": "eVMfuK1vun28",
        "outputId": "b0ad3e95-da0d-4652-ad5f-f74e44a1b20a"
      },
      "execution_count": 9,
      "outputs": [
        {
          "output_type": "stream",
          "name": "stdout",
          "text": [
            "(21200, 3, 36, 40)\n"
          ]
        }
      ]
    },
    {
      "cell_type": "code",
      "source": [
        ""
      ],
      "metadata": {
        "id": "aF0McvWW9IE7"
      },
      "execution_count": null,
      "outputs": []
    }
  ]
}