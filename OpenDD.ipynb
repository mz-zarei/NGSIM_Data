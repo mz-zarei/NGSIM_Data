{
  "nbformat": 4,
  "nbformat_minor": 0,
  "metadata": {
    "colab": {
      "name": "OpenDD.ipynb",
      "provenance": [],
      "mount_file_id": "1RFUpYCmVf1U0tk0UnKuH_ORXh9svP7kf",
      "authorship_tag": "ABX9TyOkKgLROu++xr5K/1WHKuGR",
      "include_colab_link": true
    },
    "kernelspec": {
      "name": "python3",
      "display_name": "Python 3"
    },
    "language_info": {
      "name": "python"
    }
  },
  "cells": [
    {
      "cell_type": "markdown",
      "metadata": {
        "id": "view-in-github",
        "colab_type": "text"
      },
      "source": [
        "<a href=\"https://colab.research.google.com/github/mz-zarei/Trajectory_Analysis/blob/main/OpenDD.ipynb\" target=\"_parent\"><img src=\"https://colab.research.google.com/assets/colab-badge.svg\" alt=\"Open In Colab\"/></a>"
      ]
    },
    {
      "cell_type": "code",
      "execution_count": null,
      "metadata": {
        "id": "Ol8npt91bx3u"
      },
      "outputs": [],
      "source": [
        "import pandas as pd\n",
        "import sqlite3\n",
        "\n",
        "# Read sqlite query results into a pandas DataFrame\n",
        "con = sqlite3.connect(\"data/portal_mammals.sqlite\")\n",
        "df = pd.read_sql_query(\"SELECT * from surveys\", con)\n",
        "\n",
        "# Verify that result of SQL query is stored in the dataframe\n",
        "print(df.head())\n",
        "\n",
        "con.close()\n"
      ]
    }
  ]
}