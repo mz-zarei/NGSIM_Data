{
  "nbformat": 4,
  "nbformat_minor": 0,
  "metadata": {
    "colab": {
      "name": "TrajCNNGAN.ipynb",
      "provenance": [],
      "machine_shape": "hm",
      "mount_file_id": "https://github.com/mz-zarei/Trajectory_Analysis/blob/main/TrajCNNGAN.ipynb",
      "authorship_tag": "ABX9TyN7j8RqB5COH7t2k2DTyS4+",
      "include_colab_link": true
    },
    "kernelspec": {
      "name": "python3",
      "display_name": "Python 3"
    },
    "language_info": {
      "name": "python"
    },
    "accelerator": "GPU"
  },
  "cells": [
    {
      "cell_type": "markdown",
      "metadata": {
        "id": "view-in-github",
        "colab_type": "text"
      },
      "source": [
        "<a href=\"https://colab.research.google.com/github/mz-zarei/Trajectory_Analysis/blob/main/TrajCNNGAN.ipynb\" target=\"_parent\"><img src=\"https://colab.research.google.com/assets/colab-badge.svg\" alt=\"Open In Colab\"/></a>"
      ]
    },
    {
      "cell_type": "markdown",
      "source": [
        "# **Import Libraries - Select Device**"
      ],
      "metadata": {
        "id": "5zoH4aKX5iv2"
      }
    },
    {
      "cell_type": "code",
      "execution_count": 188,
      "metadata": {
        "id": "56SrxyZ65gEW",
        "colab": {
          "base_uri": "https://localhost:8080/"
        },
        "outputId": "8ff62c3d-b97a-4276-c19f-c7646b26e406"
      },
      "outputs": [
        {
          "output_type": "stream",
          "name": "stdout",
          "text": [
            "cuda\n"
          ]
        }
      ],
      "source": [
        "import torch\n",
        "from torchvision import transforms, datasets\n",
        "import torch.nn as nn\n",
        "from torch import optim as optim\n",
        "import torch.utils.data as data_utils\n",
        "import numpy as np \n",
        "from sklearn.model_selection import train_test_split\n",
        "import torch.nn.functional as F\n",
        "from torch.autograd import Variable\n",
        "\n",
        "device = torch.device(\"cuda\" if torch.cuda.is_available() else \"cpu\")\n",
        "# device = torch.device(\"cpu\")\n",
        "\n",
        "BS_size = 100\n",
        "print(device)"
      ]
    },
    {
      "cell_type": "markdown",
      "source": [
        "# **Load Data**"
      ],
      "metadata": {
        "id": "QoMuB1Xi6zD_"
      }
    },
    {
      "cell_type": "code",
      "source": [
        "# Load preprocessed dataset\n",
        "preprocessed_data = np.load(\"/content/drive/MyDrive/Trajectory_Analysis/Interaction/preprocessed_data_rot_360.npy\")\n",
        "# Seperate trajectories to x(first 10 frames) and y(last 10 frames)\n",
        "x_data = preprocessed_data[:,:,:,:10]\n",
        "y_data = preprocessed_data[:,:2,:,10:]\n",
        "# Split train/validation/test sets\n",
        "X_train, X_test, y_train, y_test = train_test_split(x_data, y_data, test_size=0.25, random_state=42)\n",
        "X_val, X_test, y_val, y_test = train_test_split(X_test, y_test, test_size=0.5, random_state=42)\n",
        "# Train data loader\n",
        "train_data = data_utils.TensorDataset(torch.Tensor(X_train).float(), torch.Tensor(y_train).float())\n",
        "train_loader = data_utils.DataLoader(train_data, batch_size=BS_size, shuffle=True)\n",
        "# Test data loader\n",
        "test_data = data_utils.TensorDataset(torch.Tensor(X_test).float(), torch.Tensor(y_test).float())\n",
        "test_loader = data_utils.DataLoader(test_data, batch_size=BS_size, shuffle=True)\n",
        "# Validation data loader\n",
        "val_data = data_utils.TensorDataset(torch.Tensor(X_val).float(), torch.Tensor(y_val).float())\n",
        "val_loader = data_utils.DataLoader(val_data, batch_size=BS_size, shuffle=True)\n"
      ],
      "metadata": {
        "id": "Q38yo5p-6I3-"
      },
      "execution_count": 189,
      "outputs": []
    },
    {
      "cell_type": "markdown",
      "source": [
        "# **Define Generator and Discriminator**"
      ],
      "metadata": {
        "id": "1f4TBjMGgeoX"
      }
    },
    {
      "cell_type": "code",
      "source": [
        "class GeneratorModel(nn.Module):\n",
        "    def __init__(self, start_filter_num=4):\n",
        "        '''\n",
        "        Initializer function\n",
        "        args: Training arguments\n",
        "        infer: Training or test time (true if test time)\n",
        "        '''\n",
        "        super(GeneratorModel, self).__init__()\n",
        "\n",
        "        self.start_filter_num = start_filter_num \n",
        "\n",
        "\n",
        "\n",
        "        self.Vconv1 = self.v_conv_layer_set(4, self.start_filter_num)\n",
        "        self.Vconv2 = self.v_conv_layer_set(self.start_filter_num, self.start_filter_num*2)\n",
        "        self.Vconv3 = self.v_conv_layer_set(self.start_filter_num*2, self.start_filter_num*4)\n",
        "        self.Vconv4 = self.v_conv_layer_set(self.start_filter_num*4, self.start_filter_num*8)\n",
        "        self.Vconv5 = self.v_conv_layer_set(self.start_filter_num*8, self.start_filter_num*16)\n",
        "        self.Vconv6 = nn.Conv2d(self.start_filter_num*16, self.start_filter_num*32, \n",
        "                                kernel_size=(3, 1), padding=(1,0), bias=False)\n",
        "\n",
        "        self.Hconv1 = self.h_conv_layer_set(4, self.start_filter_num)\n",
        "        self.Hconv2 = self.h_conv_layer_set(self.start_filter_num, self.start_filter_num*2)\n",
        "        self.Hconv3 = self.h_conv_layer_set(self.start_filter_num*2, self.start_filter_num*4)\n",
        "        self.Hconv4 = self.h_conv_layer_set(self.start_filter_num*4, self.start_filter_num*8)\n",
        "        self.Hconv5 = self.h_conv_layer_set(self.start_filter_num*8, self.start_filter_num*16)\n",
        "        self.Hconv6 = nn.Conv2d(self.start_filter_num*16, self.start_filter_num*32, \n",
        "                                kernel_size=(1, 3), padding=(0,1), bias=False) \n",
        " \n",
        "        \n",
        "        self.fc1 = nn.Linear(self.start_filter_num*32*2, 2)\n",
        "        self.Tanh = nn.Tanh()\n",
        "        self.lrelu = nn.LeakyReLU(0.2, inplace=True)\n",
        "\n",
        "\n",
        "    def v_conv_layer_set(self, in_c, out_c):\n",
        "        conv_layer = nn.Sequential(\n",
        "        nn.Conv2d(in_c, out_c, kernel_size=(3, 1), padding=(1,0), bias=False),\n",
        "        nn.BatchNorm2d(out_c),\n",
        "        nn.LeakyReLU(0.2, inplace=True)\n",
        "        )\n",
        "        return conv_layer\n",
        "\n",
        "    def h_conv_layer_set(self, in_c, out_c):\n",
        "        conv_layer = nn.Sequential(\n",
        "        nn.Conv2d(in_c, out_c, kernel_size=(1, 3), padding=(0,1), bias=False),\n",
        "        nn.BatchNorm2d(out_c),\n",
        "        nn.LeakyReLU(0.2, inplace=True)\n",
        "        )\n",
        "        return conv_layer\n",
        "\n",
        "    def forward(self, past_traj, z):\n",
        "        \"\"\"\n",
        "        z: uniform noise [0,1] with shape of (batch,1,36,10)\n",
        "        past_traj: past traj with shape of (batch,3,36,10)\n",
        "        \"\"\"\n",
        "        input = torch.cat([past_traj,z], 1) # -> batch_size * (1+3=4) * 36 * 10\n",
        "\n",
        "        Voutput = self.Vconv1(input)        \n",
        "        Voutput = self.Vconv2(Voutput)  \n",
        "        Voutput = self.Vconv3(Voutput)  \n",
        "        Voutput = self.Vconv4(Voutput)  \n",
        "        Voutput = self.Vconv5(Voutput)  \n",
        "        Voutput = self.Vconv6(Voutput)  \n",
        "\n",
        "        Houtput = self.Hconv1(input)        \n",
        "        Houtput = self.Hconv2(Houtput)  \n",
        "        Houtput = self.Hconv3(Houtput)  \n",
        "        Houtput = self.Hconv4(Houtput) \n",
        "        Houtput = self.Hconv5(Houtput)  \n",
        "        Houtput = self.Hconv6(Houtput)  \n",
        "\n",
        "        output = torch.cat([Voutput,Houtput], 1)   # -> BS * C * H(36) * W(10)\n",
        "        output = torch.transpose(output,1,3)       # -> BS * W(10) * H(36) * C\n",
        "        output = self.Tanh(self.fc1(output))      # -> BS * W(10) * H(36) * 2 \n",
        "        output = torch.transpose(output,1,3)       # -> BS * 2 * H(36) * W(10) same as y_train[0].shape\n",
        "        return output.to(device)\n",
        "\n",
        "\n",
        "class DiscriminatorModel(nn.Module):\n",
        "    def __init__(self, start_filter_num=4, fc_layer_out_size=128):\n",
        "        super(DiscriminatorModel, self).__init__()\n",
        "                \n",
        "        self.start_filter_num = start_filter_num \n",
        "        self.fc_layer_out_size = fc_layer_out_size\n",
        "\n",
        "        self.Vconv1 = self.v_conv_layer_set(5, self.start_filter_num*64)\n",
        "        self.Vconv2 = self.v_conv_layer_set(self.start_filter_num*64, self.start_filter_num*32)\n",
        "        self.Vconv3 = self.v_conv_layer_set(self.start_filter_num*32, self.start_filter_num*16)\n",
        "        self.Vconv4 = self.v_conv_layer_set(self.start_filter_num*16, self.start_filter_num*8)\n",
        "        self.Vconv5 = self.v_conv_layer_set(self.start_filter_num*8, self.start_filter_num*4)\n",
        "        self.Vconv6 = nn.Conv2d(self.start_filter_num*4, self.start_filter_num*2, \n",
        "                                kernel_size=(3, 1), padding=(1,0), bias=False) \n",
        "\n",
        "        self.Hconv1 = self.h_conv_layer_set(5, self.start_filter_num*64)\n",
        "        self.Hconv2 = self.h_conv_layer_set(self.start_filter_num*64, self.start_filter_num*32)\n",
        "        self.Hconv3 = self.h_conv_layer_set(self.start_filter_num*32, self.start_filter_num*16)\n",
        "        self.Hconv4 = self.h_conv_layer_set(self.start_filter_num*16, self.start_filter_num*8)\n",
        "        self.Hconv5 = self.h_conv_layer_set(self.start_filter_num*8, self.start_filter_num*4)\n",
        "        self.Hconv6 = nn.Conv2d(self.start_filter_num*4, self.start_filter_num*2, \n",
        "                                kernel_size=(1, 3), padding=(0,1), bias=False) \n",
        "\n",
        "        \n",
        "        \n",
        "        self.fc1 = nn.Linear(self.start_filter_num*2*2, self.fc_layer_out_size)\n",
        "        self.fc2 = nn.Linear(self.fc_layer_out_size*36*10, 1)\n",
        "\n",
        "        self.lrelu = nn.LeakyReLU()\n",
        "\n",
        "    def v_conv_layer_set(self, in_c, out_c):\n",
        "        conv_layer = nn.Sequential(\n",
        "        nn.Conv2d(in_c, out_c, kernel_size=(3, 1), padding=(1,0), bias=False),\n",
        "        nn.BatchNorm2d(out_c),\n",
        "        nn.LeakyReLU(0.2, inplace=True)\n",
        "        )\n",
        "        return conv_layer\n",
        "\n",
        "    def h_conv_layer_set(self, in_c, out_c):\n",
        "        conv_layer = nn.Sequential(\n",
        "        nn.Conv2d(in_c, out_c, kernel_size=(1, 3), padding=(0,1), bias=False),\n",
        "        nn.BatchNorm2d(out_c),\n",
        "        nn.LeakyReLU(0.2, inplace=True)\n",
        "        )\n",
        "        return conv_layer\n",
        "\n",
        "    def forward(self, past_traj, future_traj):\n",
        "        \"\"\"\n",
        "        past_traj: past traj with shape of (batch,3,36,10)\n",
        "        future_traj: future traj with shape of (batch,2,36,10)\n",
        "        \"\"\"\n",
        "        input = torch.cat([past_traj,future_traj], 1)                # -> batch_size * (2+2=4) * 36 * 10\n",
        "\n",
        "        Voutput = self.Vconv1(input)        \n",
        "        Voutput = self.Vconv2(Voutput)  \n",
        "        Voutput = self.Vconv3(Voutput)  \n",
        "        Voutput = self.Vconv4(Voutput)  \n",
        "        Voutput = self.Vconv5(Voutput)  \n",
        "        Voutput = self.Vconv6(Voutput)  \n",
        "\n",
        "        Houtput = self.Hconv1(input)        \n",
        "        Houtput = self.Hconv2(Houtput)  \n",
        "        Houtput = self.Hconv3(Houtput)  \n",
        "        Houtput = self.Hconv4(Houtput) \n",
        "        Houtput = self.Hconv5(Houtput)  \n",
        "        Houtput = self.Hconv6(Houtput)  \n",
        "\n",
        "        output = torch.cat([Voutput,Houtput], 1)   # -> BS * (32x2xstart_filter_num) * H(36) * W(10)\n",
        "        output = torch.transpose(output,1,3)       # -> BS * W(10) * H(36) * (32x2xstart_filter_num)\n",
        "        output = self.lrelu(self.fc1(output))      # -> BS * W(10) * H(36) * fc_layer_out_size \n",
        "        output = torch.flatten(output,start_dim=1)\n",
        "        output = torch.sigmoid(self.fc2(output))\n",
        "        return output.to(device)\n",
        "  "
      ],
      "metadata": {
        "id": "4H_92lGk_hlh"
      },
      "execution_count": 190,
      "outputs": []
    },
    {
      "cell_type": "code",
      "source": [
        "# Check the output size for each model\n",
        "generator = GeneratorModel(start_filter_num=16)\n",
        "traj_past = torch.randn(50, 3, 36, 10) # BS x C x H x W\n",
        "z = torch.rand(50, 1, 36, 10)\n",
        "\n",
        "output = generator(traj_past, z)\n",
        "print(\"G output shape: \", output.shape)\n",
        "G_total_params = sum(p.numel() for p in generator.parameters())\n",
        "print(\"G number of parameters: \", G_total_params)\n",
        "\n",
        "\n",
        "discriminator = DiscriminatorModel(start_filter_num=8, fc_layer_out_size=16)\n",
        "past_traj = torch.randn(50,3, 36, 10)\n",
        "future_traj = torch.randn(50,2, 36, 10)\n",
        "\n",
        "output = discriminator(past_traj, future_traj)\n",
        "print(\"D output shape: \",output.shape)\n",
        "D_total_params = sum(p.numel() for p in discriminator.parameters())\n",
        "print(\"G number of parameters: \", D_total_params)\n"
      ],
      "metadata": {
        "colab": {
          "base_uri": "https://localhost:8080/"
        },
        "id": "EyIZtAW4_3h4",
        "outputId": "477a153d-ba15-4ea0-cd21-cc6023eb83c2"
      },
      "execution_count": 191,
      "outputs": [
        {
          "output_type": "stream",
          "name": "stdout",
          "text": [
            "G output shape:  torch.Size([50, 2, 36, 10])\n",
            "G number of parameters:  1051970\n",
            "D output shape:  torch.Size([50, 1])\n",
            "G number of parameters:  1073169\n"
          ]
        }
      ]
    },
    {
      "cell_type": "markdown",
      "source": [
        "# **Train TC-GAN**"
      ],
      "metadata": {
        "id": "mTvSnhTC2zQC"
      }
    },
    {
      "cell_type": "code",
      "source": [
        "# custom weights initialization called on netG and netD\n",
        "def weights_init(m):\n",
        "    classname = m.__class__.__name__\n",
        "    if classname.find('Conv') != -1:\n",
        "        nn.init.normal_(m.weight.data, 0.0, 0.02)\n",
        "    elif classname.find('BatchNorm') != -1:\n",
        "        nn.init.normal_(m.weight.data, 1.0, 0.02)\n",
        "        nn.init.constant_(m.bias.data, 0)\n",
        "\n",
        "\n",
        "def bce_loss(input, target):\n",
        "    \"\"\"\n",
        "    Numerically stable version of the binary cross-entropy loss function.\n",
        "    As per https://github.com/pytorch/pytorch/issues/751\n",
        "    See the TensorFlow docs for a derivation of this formula:\n",
        "    https://www.tensorflow.org/api_docs/python/tf/nn/sigmoid_cross_entropy_with_logits\n",
        "    Input:\n",
        "    - input: PyTorch Tensor of shape (N, ) giving scores.\n",
        "    - target: PyTorch Tensor of shape (N,) containing 0 and 1 giving targets.\n",
        "    Output:\n",
        "    - A PyTorch Tensor containing the mean BCE loss over the minibatch of\n",
        "      input data.\n",
        "    \"\"\"\n",
        "    neg_abs = -input.abs()\n",
        "    loss = input.clamp(min=0) - input * target + (1 + neg_abs.exp()).log()\n",
        "    return loss.mean()\n",
        "\n",
        "\n",
        "def g_loss(scores_fake, gen_traj, real_traj):\n",
        "    \"\"\"\n",
        "    Input:\n",
        "    - scores_fake: Tensor of shape (N,) containing scores for fake samples\n",
        "    Output:\n",
        "    - loss: Tensor of shape (,) giving GAN generator loss\n",
        "    \"\"\"\n",
        "    y_fake = torch.ones_like(scores_fake) * np.random.uniform(0.7, 1.2)\n",
        "    loss1 = bce_loss(scores_fake, y_fake)\n",
        "\n",
        "    mse_loss = nn.MSELoss()\n",
        "    loss2 = mse_loss(gen_traj, real_traj)\n",
        "    return loss1 + 10*loss2\n",
        "\n",
        "\n",
        "def d_loss(scores_real, scores_fake):\n",
        "    \"\"\"\n",
        "    Input:\n",
        "    - scores_real: Tensor of shape (N,) giving scores for real samples\n",
        "    - scores_fake: Tensor of shape (N,) giving scores for fake samples\n",
        "    Output:\n",
        "    - loss: Tensor of shape (,) giving GAN discriminator loss\n",
        "    \"\"\"\n",
        "    y_real = torch.ones_like(scores_real) * np.random.uniform(0.7, 1.2)\n",
        "    y_fake = torch.zeros_like(scores_fake) * np.random.uniform(0, 0.3)\n",
        "    loss_real = bce_loss(scores_real, y_real)\n",
        "    loss_fake = bce_loss(scores_fake, y_fake)\n",
        "    return (loss_real + loss_fake)/2\n",
        "\n",
        "\n",
        "def Train(generator, discriminator):\n",
        "    # Lists to keep track of progress\n",
        "    G_losses = []\n",
        "    D_losses = []\n",
        "    iters = 0\n",
        "\n",
        "    # Initialize BCELoss and MSELoss function\n",
        "    BCEloss = nn.BCELoss()\n",
        "    MSELoss = nn.MSELoss()\n",
        "\n",
        "    # Establish convention for real and fake labels during training\n",
        "    real_label = 1.\n",
        "    fake_label = 0.\n",
        "\n",
        "    # Training Loop\n",
        "    print(\"Starting Training Loop...\")\n",
        "    # For each epoch\n",
        "    for epoch in range(num_epochs):\n",
        "        # For each batch in the dataloader\n",
        "        for i, (real_past_traj, real_future_traj) in enumerate(train_loader):\n",
        "\n",
        "            ############################\n",
        "            # (1) Update D network: maximize log(D(x)) + log(1 - D(G(z)))\n",
        "            ###########################\n",
        "            ## Train with all-real batch\n",
        "            netD.zero_grad()\n",
        "            # Format batch\n",
        "            real_past_traj = real_past_traj.to(device)\n",
        "            real_future_traj = real_future_traj.to(device)\n",
        "\n",
        "            b_size = real_past_traj.size(0)\n",
        "            label = torch.full((b_size,), real_label, dtype=torch.float, device=device)\n",
        "            # Forward pass real batch through D\n",
        "            scores_real = netD(real_past_traj, real_future_traj).view(-1)\n",
        "            # Calculate loss on all-real batch\n",
        "            errD_real =  BCEloss(scores_real, label)\n",
        "            # Calculate gradients for D in backward pass\n",
        "            errD_real.backward()\n",
        "            D_x = scores_real.mean().item()\n",
        "\n",
        "            ## Train with all-fake batch\n",
        "            # Generate batch of latent vectors\n",
        "            noise = torch.rand((real_past_traj.size(0),1,36,10), device=device)\n",
        "            # Generate future traj batch with G\n",
        "            fake = netG(real_past_traj, noise)\n",
        "            label.fill_(fake_label)\n",
        "            # Classify all fake batch (generated future traj) with D\n",
        "            scores_fake = netD(real_past_traj, fake.detach()).view(-1)\n",
        "            # Calculate D's loss on the all-fake batch\n",
        "            errD_fake = BCEloss(scores_fake, label)\n",
        "            # Calculate the gradients for this batch, accumulated (summed) with previous gradients\n",
        "            errD_fake.backward()\n",
        "            D_G_z1 = scores_fake.mean().item()\n",
        "            # Compute error of D as sum over the fake and the real batches\n",
        "            errD = (errD_real + errD_fake)/2\n",
        "            # errD.backward()\n",
        "            # Update D\n",
        "            optimizerD.step()\n",
        "\n",
        "\n",
        "\n",
        "            ############################\n",
        "            # (2) Update G network: maximize log(D(G(z)))\n",
        "            ###########################\n",
        "            netG.zero_grad()\n",
        "            label.fill_(real_label)  # fake labels are real for generator cost\n",
        "            # Since we just updated D, perform another forward pass of all-fake batch through D\n",
        "            scores_fake = netD(real_past_traj, fake).view(-1)\n",
        "            # Calculate G's loss based on this output\n",
        "            errG = BCEloss(scores_fake, label) # + 10 * MSELoss(output, label)\n",
        "            \n",
        "            # Calculate gradients for G\n",
        "            errG.backward()\n",
        "            D_G_z2 = scores_fake.mean().item()\n",
        "            # Update G\n",
        "            optimizerG.step()\n",
        "\n",
        "            # Output training stats\n",
        "            if i % 50 == 0:\n",
        "                print('[%d/%d][%d/%d]\\tLoss_D: %.4f\\tLoss_G: %.4f\\tD(x): %.4f\\tD(G(z)): %.4f / %.4f'\n",
        "                    % (epoch, num_epochs, i, len(train_loader),\n",
        "                        errD.item(), errG.item(), D_x, D_G_z1, D_G_z2))\n",
        "                # print(BCEloss(output, label), MSELoss(output, label))\n",
        "                \n",
        "\n",
        "            # Save Losses for plotting later\n",
        "            G_losses.append(errG.item())\n",
        "            D_losses.append(errD.item())\n",
        "\n",
        "            iters += 1\n",
        "    return G_losses, D_losses\n",
        "\n",
        "\n",
        "def Train2(generator, discriminator):\n",
        "    # Lists to keep track of progress\n",
        "    G_losses = []\n",
        "    D_losses = []\n",
        "    iters = 0\n",
        "\n",
        "    # Establish convention for real and fake labels during training\n",
        "    real_label = 1.\n",
        "    fake_label = 0.\n",
        "\n",
        "    # Initialize BCELoss and MSELoss function\n",
        "    # BCEloss = nn.BCELoss()\n",
        "    # MSELoss = nn.MSELoss()\n",
        "\n",
        "    # Training Loop\n",
        "    print(\"Starting Training Loop...\")\n",
        "    # For each epoch\n",
        "    for epoch in range(num_epochs):\n",
        "        # For each batch in the dataloader\n",
        "        for i, (real_past_traj, real_future_traj) in enumerate(train_loader):\n",
        "\n",
        "            ############################\n",
        "            # (1) Update D network: maximize log(D(x)) + log(1 - D(G(z)))\n",
        "            ###########################\n",
        "            ## Train with all-real batch\n",
        "            netD.zero_grad()\n",
        "            # Format batch\n",
        "            real_past_traj = real_past_traj.to(device)\n",
        "            real_future_traj = real_future_traj.to(device)\n",
        "\n",
        "\n",
        "            # Forward pass real batch through D\n",
        "            scores_real = netD(real_past_traj, real_future_traj).view(-1)\n",
        "            D_x = scores_real.mean().item()\n",
        "\n",
        "            ## Train with all-fake batch\n",
        "            # Generate batch of latent vectors\n",
        "            noise = torch.rand((real_past_traj.size(0),1,36,10), device=device)\n",
        "            # Generate future traj batch with G\n",
        "            fake = netG(real_past_traj, noise)\n",
        "            # Classify all fake batch (generated future traj) with D\n",
        "            scores_fake = netD(real_past_traj, fake.detach()).view(-1)\n",
        "            D_G_z1 = scores_fake.mean().item()\n",
        "\n",
        "            # Compute error of D as sum over the fake and the real batches\n",
        "            errD = d_loss(scores_real, scores_fake)\n",
        "            errD.backward()\n",
        "            # Update D\n",
        "            optimizerD.step()\n",
        "\n",
        "\n",
        "            ############################\n",
        "            # (2) Update G network: maximize log(D(G(z)))\n",
        "            ###########################\n",
        "            netG.zero_grad()\n",
        "            # Since we just updated D, perform another forward pass of all-fake batch through D\n",
        "            scores_fake = netD(real_past_traj, fake).view(-1)\n",
        "            # Calculate G's loss based on this output\n",
        "            errG = g_loss(scores_fake, fake, real_future_traj)\n",
        "            # Calculate gradients for G\n",
        "            errG.backward()\n",
        "            D_G_z2 = scores_fake.mean().item()\n",
        "            # Update G\n",
        "            optimizerG.step()\n",
        "\n",
        "            # Output training stats\n",
        "            if i % 50 == 0:\n",
        "                print('[%d/%d][%d/%d]\\tLoss_D: %.4f\\tLoss_G: %.4f\\tD(x): %.4f\\tD(G(z)): %.4f / %.4f'\n",
        "                    % (epoch, num_epochs, i, len(train_loader),\n",
        "                        errD.item(), errG.item(), D_x, D_G_z1, D_G_z2))\n",
        "                \n",
        "\n",
        "            # Save Losses for plotting later\n",
        "            G_losses.append(errG.item())\n",
        "            D_losses.append(errD.item())\n",
        "\n",
        "            iters += 1\n",
        "    return G_losses, D_losses\n"
      ],
      "metadata": {
        "id": "X3-lLzHEdWYS"
      },
      "execution_count": 198,
      "outputs": []
    },
    {
      "cell_type": "code",
      "source": [
        "# Number of training epochs\n",
        "num_epochs = 5\n",
        "# Learning rate for optimizers\n",
        "D_lr = 0.00001\n",
        "G_lr = 0.0001\n",
        "# Beta1 hyperparam for Adam optimizers\n",
        "beta1 = 0.5\n",
        "\n",
        "\n",
        "## Define Discriminator\n",
        "netD = DiscriminatorModel(2, 128).to(device)\n",
        "netD.apply(weights_init)\n",
        "D_total_params = sum(p.numel() for p in netD.parameters())\n",
        "print(\"D number of parameters: \", D_total_params)\n",
        "# print(netD)\n",
        "\n",
        "## Define Generator\n",
        "netG = GeneratorModel(8).to(device)\n",
        "netG.apply(weights_init)\n",
        "G_total_params = sum(p.numel() for p in netG.parameters())\n",
        "print(\"G number of parameters: \", G_total_params)\n",
        "# print(netG)\n",
        "\n",
        "\n",
        "## Setup Adam optimizers for both G and D\n",
        "optimizerD = optim.Adam(netD.parameters(), lr=D_lr, betas=(beta1, 0.999), eps = 0)\n",
        "optimizerG = optim.Adam(netG.parameters(), lr=G_lr, betas=(beta1, 0.999), eps = G_lr/num_epochs)\n",
        "\n",
        "## Train\n",
        "G_loss, D_loss = Train2(generator, discriminator)"
      ],
      "metadata": {
        "colab": {
          "base_uri": "https://localhost:8080/"
        },
        "id": "M1BbVMJBmwy9",
        "outputId": "cf43a219-7e76-45a5-ff83-7553a69ea0ff"
      },
      "execution_count": null,
      "outputs": [
        {
          "output_type": "stream",
          "name": "stdout",
          "text": [
            "D number of parameters:  117537\n",
            "G number of parameters:  264098\n",
            "Starting Training Loop...\n",
            "[0/5][0/159]\tLoss_D: 0.7664\tLoss_G: 1.0184\tD(x): 0.5026\tD(G(z)): 0.5015 / 0.4907\n",
            "[0/5][50/159]\tLoss_D: 0.7223\tLoss_G: 0.6914\tD(x): 0.1884\tD(G(z)): 0.1879 / 0.1829\n",
            "[0/5][100/159]\tLoss_D: 0.6979\tLoss_G: 0.7173\tD(x): 0.1029\tD(G(z)): 0.1017 / 0.1009\n",
            "[0/5][150/159]\tLoss_D: 0.7046\tLoss_G: 0.7212\tD(x): 0.0804\tD(G(z)): 0.0787 / 0.0777\n",
            "[1/5][0/159]\tLoss_D: 0.6990\tLoss_G: 0.7336\tD(x): 0.0795\tD(G(z)): 0.0778 / 0.0776\n",
            "[1/5][50/159]\tLoss_D: 0.6897\tLoss_G: 0.7338\tD(x): 0.0617\tD(G(z)): 0.0594 / 0.0597\n",
            "[1/5][100/159]\tLoss_D: 0.6931\tLoss_G: 0.7367\tD(x): 0.0521\tD(G(z)): 0.0493 / 0.0488\n"
          ]
        }
      ]
    },
    {
      "cell_type": "code",
      "source": [
        "import matplotlib.pyplot as plt\n",
        "\n",
        "plt.figure(figsize=(10,5))\n",
        "plt.title(\"Generator and Discriminator Loss During Training\")\n",
        "plt.plot(G_loss,label=\"G\")\n",
        "plt.plot(D_loss,label=\"D\")\n",
        "plt.xlabel(\"iterations\")\n",
        "plt.ylabel(\"Loss\")\n",
        "plt.legend()\n",
        "plt.show()"
      ],
      "metadata": {
        "id": "e0sQccQ0KcJF",
        "outputId": "c65adba0-b411-4c57-abdc-03053c2ffae3",
        "colab": {
          "base_uri": "https://localhost:8080/",
          "height": 350
        }
      },
      "execution_count": 182,
      "outputs": [
        {
          "output_type": "display_data",
          "data": {
            "image/png": "[encoded data removed]",
            "text/plain": [
              "<Figure size 720x360 with 1 Axes>"
            ]
          },
          "metadata": {
            "needs_background": "light"
          }
        }
      ]
    },
    {
      "cell_type": "code",
      "source": [
        "for i, (real_past_traj, real_future_traj) in enumerate(train_loader):\n",
        "    # Format batch\n",
        "    real_past_traj = real_past_traj.to(device)\n",
        "    real_future_traj = real_future_traj.to(device)\n",
        "\n",
        "    # Generate batch of latent vectors\n",
        "    noise = torch.rand((real_past_traj.size(0),1,36,10), device=device)\n",
        "    # Generate future traj batch with G\n",
        "    fake = netG(real_past_traj, noise)\n",
        "    break"
      ],
      "metadata": {
        "id": "dkuaAlco0sg4"
      },
      "execution_count": 183,
      "outputs": []
    },
    {
      "cell_type": "code",
      "source": [
        "fake[1,0,0]"
      ],
      "metadata": {
        "id": "sEZySrf9hcMB",
        "outputId": "343a6e45-1b0f-423d-b983-b5d07b3385e3",
        "colab": {
          "base_uri": "https://localhost:8080/"
        }
      },
      "execution_count": 186,
      "outputs": [
        {
          "output_type": "execute_result",
          "data": {
            "text/plain": [
              "tensor([-0.0869, -0.0773, -0.0903, -0.0803, -0.0811, -0.0771, -0.0719, -0.0226,\n",
              "        -0.0797, -0.0760], device='cuda:0', grad_fn=<SelectBackward0>)"
            ]
          },
          "metadata": {},
          "execution_count": 186
        }
      ]
    },
    {
      "cell_type": "code",
      "source": [
        "real_future_traj[1,0,0]"
      ],
      "metadata": {
        "id": "14HIe3t4qB-0",
        "outputId": "61fecb20-0b88-46a8-c9fe-68c13464e6f3",
        "colab": {
          "base_uri": "https://localhost:8080/"
        }
      },
      "execution_count": 187,
      "outputs": [
        {
          "output_type": "execute_result",
          "data": {
            "text/plain": [
              "tensor([-0.2124, -0.2132, -0.2132, -0.2123, -0.2106, -0.2082, -0.2052, -0.2014,\n",
              "        -0.1970, -0.1921], device='cuda:0')"
            ]
          },
          "metadata": {},
          "execution_count": 187
        }
      ]
    },
    {
      "cell_type": "code",
      "source": [
        ""
      ],
      "metadata": {
        "id": "zTBGWV99qO5v"
      },
      "execution_count": null,
      "outputs": []
    }
  ]
}